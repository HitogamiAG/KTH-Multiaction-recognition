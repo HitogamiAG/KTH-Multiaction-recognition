{
 "cells": [
  {
   "cell_type": "code",
   "execution_count": 1,
   "id": "4138efa7-412c-433b-addf-48ce14dda382",
   "metadata": {},
   "outputs": [],
   "source": [
    "import pandas as pd\n",
    "df = pd.read_csv('~/projects/dl_aitu/assg2/data/train/train_data.csv')"
   ]
  },
  {
   "cell_type": "code",
   "execution_count": 2,
   "id": "5c443f06",
   "metadata": {},
   "outputs": [
    {
     "data": {
      "text/plain": [
       "(22848, 33)"
      ]
     },
     "execution_count": 2,
     "metadata": {},
     "output_type": "execute_result"
    }
   ],
   "source": [
    "df.shape"
   ]
  },
  {
   "cell_type": "code",
   "execution_count": 3,
   "id": "32d4a958-7105-4782-b2b7-228dbfa11c44",
   "metadata": {},
   "outputs": [],
   "source": [
    "import subprocess\n",
    "\n",
    "def get_length(filename):\n",
    "    result = subprocess.run([\"ffprobe\", \"-v\", \"error\", \"-show_entries\",\n",
    "                             \"format=duration\", \"-of\",\n",
    "                             \"default=noprint_wrappers=1:nokey=1\", filename],\n",
    "        stdout=subprocess.PIPE,\n",
    "        stderr=subprocess.STDOUT)\n",
    "    return float(result.stdout)"
   ]
  },
  {
   "cell_type": "code",
   "execution_count": 4,
   "id": "68a26525-d88a-4c67-8abb-d372f8f81cf5",
   "metadata": {},
   "outputs": [
    {
     "data": {
      "text/html": [
       "<div>\n",
       "<style scoped>\n",
       "    .dataframe tbody tr th:only-of-type {\n",
       "        vertical-align: middle;\n",
       "    }\n",
       "\n",
       "    .dataframe tbody tr th {\n",
       "        vertical-align: top;\n",
       "    }\n",
       "\n",
       "    .dataframe thead th {\n",
       "        text-align: right;\n",
       "    }\n",
       "</style>\n",
       "<table border=\"1\" class=\"dataframe\">\n",
       "  <thead>\n",
       "    <tr style=\"text-align: right;\">\n",
       "      <th></th>\n",
       "      <th>src_video</th>\n",
       "      <th>Nose_X</th>\n",
       "      <th>action</th>\n",
       "    </tr>\n",
       "  </thead>\n",
       "  <tbody>\n",
       "    <tr>\n",
       "      <th>0</th>\n",
       "      <td>person01_boxing_d1_uncomp.avi</td>\n",
       "      <td>72</td>\n",
       "      <td>boxing</td>\n",
       "    </tr>\n",
       "    <tr>\n",
       "      <th>1</th>\n",
       "      <td>person01_boxing_d2_uncomp.avi</td>\n",
       "      <td>78</td>\n",
       "      <td>boxing</td>\n",
       "    </tr>\n",
       "    <tr>\n",
       "      <th>2</th>\n",
       "      <td>person01_boxing_d3_uncomp.avi</td>\n",
       "      <td>93</td>\n",
       "      <td>boxing</td>\n",
       "    </tr>\n",
       "    <tr>\n",
       "      <th>3</th>\n",
       "      <td>person01_boxing_d4_uncomp.avi</td>\n",
       "      <td>61</td>\n",
       "      <td>boxing</td>\n",
       "    </tr>\n",
       "    <tr>\n",
       "      <th>4</th>\n",
       "      <td>person01_handclapping_d1_uncomp.avi</td>\n",
       "      <td>76</td>\n",
       "      <td>handclapping</td>\n",
       "    </tr>\n",
       "  </tbody>\n",
       "</table>\n",
       "</div>"
      ],
      "text/plain": [
       "                             src_video  Nose_X        action\n",
       "0        person01_boxing_d1_uncomp.avi      72        boxing\n",
       "1        person01_boxing_d2_uncomp.avi      78        boxing\n",
       "2        person01_boxing_d3_uncomp.avi      93        boxing\n",
       "3        person01_boxing_d4_uncomp.avi      61        boxing\n",
       "4  person01_handclapping_d1_uncomp.avi      76  handclapping"
      ]
     },
     "execution_count": 4,
     "metadata": {},
     "output_type": "execute_result"
    }
   ],
   "source": [
    "frames = df.groupby('src_video').agg({'Nose_X':'count', 'action':'first'}).reset_index(drop=False)\n",
    "frames.head()"
   ]
  },
  {
   "cell_type": "code",
   "execution_count": 5,
   "id": "dc70d447-435f-42dd-b1b7-92aa6ee02682",
   "metadata": {},
   "outputs": [
    {
     "data": {
      "text/html": [
       "<div>\n",
       "<style scoped>\n",
       "    .dataframe tbody tr th:only-of-type {\n",
       "        vertical-align: middle;\n",
       "    }\n",
       "\n",
       "    .dataframe tbody tr th {\n",
       "        vertical-align: top;\n",
       "    }\n",
       "\n",
       "    .dataframe thead th {\n",
       "        text-align: right;\n",
       "    }\n",
       "</style>\n",
       "<table border=\"1\" class=\"dataframe\">\n",
       "  <thead>\n",
       "    <tr style=\"text-align: right;\">\n",
       "      <th></th>\n",
       "      <th>src_video</th>\n",
       "      <th>Nose_X</th>\n",
       "      <th>action</th>\n",
       "      <th>dur</th>\n",
       "    </tr>\n",
       "  </thead>\n",
       "  <tbody>\n",
       "    <tr>\n",
       "      <th>0</th>\n",
       "      <td>person01_boxing_d1_uncomp.avi</td>\n",
       "      <td>72</td>\n",
       "      <td>boxing</td>\n",
       "      <td>14.40</td>\n",
       "    </tr>\n",
       "    <tr>\n",
       "      <th>1</th>\n",
       "      <td>person01_boxing_d2_uncomp.avi</td>\n",
       "      <td>78</td>\n",
       "      <td>boxing</td>\n",
       "      <td>15.60</td>\n",
       "    </tr>\n",
       "    <tr>\n",
       "      <th>2</th>\n",
       "      <td>person01_boxing_d3_uncomp.avi</td>\n",
       "      <td>93</td>\n",
       "      <td>boxing</td>\n",
       "      <td>18.60</td>\n",
       "    </tr>\n",
       "    <tr>\n",
       "      <th>3</th>\n",
       "      <td>person01_boxing_d4_uncomp.avi</td>\n",
       "      <td>61</td>\n",
       "      <td>boxing</td>\n",
       "      <td>12.12</td>\n",
       "    </tr>\n",
       "    <tr>\n",
       "      <th>4</th>\n",
       "      <td>person01_handclapping_d1_uncomp.avi</td>\n",
       "      <td>76</td>\n",
       "      <td>handclapping</td>\n",
       "      <td>15.12</td>\n",
       "    </tr>\n",
       "    <tr>\n",
       "      <th>...</th>\n",
       "      <td>...</td>\n",
       "      <td>...</td>\n",
       "      <td>...</td>\n",
       "      <td>...</td>\n",
       "    </tr>\n",
       "    <tr>\n",
       "      <th>352</th>\n",
       "      <td>person15_running_d4_uncomp.avi</td>\n",
       "      <td>23</td>\n",
       "      <td>running</td>\n",
       "      <td>12.80</td>\n",
       "    </tr>\n",
       "    <tr>\n",
       "      <th>353</th>\n",
       "      <td>person15_walking_d1_uncomp.avi</td>\n",
       "      <td>66</td>\n",
       "      <td>walking</td>\n",
       "      <td>29.64</td>\n",
       "    </tr>\n",
       "    <tr>\n",
       "      <th>354</th>\n",
       "      <td>person15_walking_d2_uncomp.avi</td>\n",
       "      <td>87</td>\n",
       "      <td>walking</td>\n",
       "      <td>31.60</td>\n",
       "    </tr>\n",
       "    <tr>\n",
       "      <th>355</th>\n",
       "      <td>person15_walking_d3_uncomp.avi</td>\n",
       "      <td>44</td>\n",
       "      <td>walking</td>\n",
       "      <td>26.20</td>\n",
       "    </tr>\n",
       "    <tr>\n",
       "      <th>356</th>\n",
       "      <td>person15_walking_d4_uncomp.avi</td>\n",
       "      <td>68</td>\n",
       "      <td>walking</td>\n",
       "      <td>27.12</td>\n",
       "    </tr>\n",
       "  </tbody>\n",
       "</table>\n",
       "<p>357 rows × 4 columns</p>\n",
       "</div>"
      ],
      "text/plain": [
       "                               src_video  Nose_X        action    dur\n",
       "0          person01_boxing_d1_uncomp.avi      72        boxing  14.40\n",
       "1          person01_boxing_d2_uncomp.avi      78        boxing  15.60\n",
       "2          person01_boxing_d3_uncomp.avi      93        boxing  18.60\n",
       "3          person01_boxing_d4_uncomp.avi      61        boxing  12.12\n",
       "4    person01_handclapping_d1_uncomp.avi      76  handclapping  15.12\n",
       "..                                   ...     ...           ...    ...\n",
       "352       person15_running_d4_uncomp.avi      23       running  12.80\n",
       "353       person15_walking_d1_uncomp.avi      66       walking  29.64\n",
       "354       person15_walking_d2_uncomp.avi      87       walking  31.60\n",
       "355       person15_walking_d3_uncomp.avi      44       walking  26.20\n",
       "356       person15_walking_d4_uncomp.avi      68       walking  27.12\n",
       "\n",
       "[357 rows x 4 columns]"
      ]
     },
     "execution_count": 5,
     "metadata": {},
     "output_type": "execute_result"
    }
   ],
   "source": [
    "frames['dur'] = frames['src_video'].apply(lambda x: get_length('../data/train/' + x.split('_')[1] + '/' + x))\n",
    "frames"
   ]
  },
  {
   "cell_type": "code",
   "execution_count": 6,
   "id": "a73adc77-b8b3-44b8-8e65-81e6d4a873ea",
   "metadata": {},
   "outputs": [
    {
     "data": {
      "text/plain": [
       "array(['boxing', 'handclapping', 'handwaving', 'jogging', 'running',\n",
       "       'walking'], dtype=object)"
      ]
     },
     "execution_count": 6,
     "metadata": {},
     "output_type": "execute_result"
    }
   ],
   "source": [
    "frames.action.unique()"
   ]
  },
  {
   "cell_type": "code",
   "execution_count": 7,
   "id": "863e876f-f771-4590-ae11-ff11ad2f5f2b",
   "metadata": {},
   "outputs": [
    {
     "data": {
      "text/html": [
       "<div>\n",
       "<style scoped>\n",
       "    .dataframe tbody tr th:only-of-type {\n",
       "        vertical-align: middle;\n",
       "    }\n",
       "\n",
       "    .dataframe tbody tr th {\n",
       "        vertical-align: top;\n",
       "    }\n",
       "\n",
       "    .dataframe thead th {\n",
       "        text-align: right;\n",
       "    }\n",
       "</style>\n",
       "<table border=\"1\" class=\"dataframe\">\n",
       "  <thead>\n",
       "    <tr style=\"text-align: right;\">\n",
       "      <th></th>\n",
       "      <th>Nose_X</th>\n",
       "      <th>dur</th>\n",
       "    </tr>\n",
       "  </thead>\n",
       "  <tbody>\n",
       "    <tr>\n",
       "      <th>Nose_X</th>\n",
       "      <td>1.000000</td>\n",
       "      <td>0.316952</td>\n",
       "    </tr>\n",
       "    <tr>\n",
       "      <th>dur</th>\n",
       "      <td>0.316952</td>\n",
       "      <td>1.000000</td>\n",
       "    </tr>\n",
       "  </tbody>\n",
       "</table>\n",
       "</div>"
      ],
      "text/plain": [
       "          Nose_X       dur\n",
       "Nose_X  1.000000  0.316952\n",
       "dur     0.316952  1.000000"
      ]
     },
     "execution_count": 7,
     "metadata": {},
     "output_type": "execute_result"
    }
   ],
   "source": [
    "frames[frames.action == 'jogging'][['Nose_X', 'dur']].corr()"
   ]
  },
  {
   "cell_type": "code",
   "execution_count": 8,
   "id": "67a8099d-5296-4488-a9a2-6c5fd7643260",
   "metadata": {},
   "outputs": [
    {
     "data": {
      "text/plain": [
       "<AxesSubplot:>"
      ]
     },
     "execution_count": 8,
     "metadata": {},
     "output_type": "execute_result"
    },
    {
     "data": {
      "image/png": "[encoded data removed]",
      "text/plain": [
       "<Figure size 640x480 with 1 Axes>"
      ]
     },
     "metadata": {},
     "output_type": "display_data"
    }
   ],
   "source": [
    "frames[frames.action == 'handclapping'].Nose_X.plot(kind='box')"
   ]
  },
  {
   "cell_type": "code",
   "execution_count": 9,
   "id": "cec3ae73-355d-4f04-9846-e2667b375d71",
   "metadata": {},
   "outputs": [
    {
     "data": {
      "text/html": [
       "<div>\n",
       "<style scoped>\n",
       "    .dataframe tbody tr th:only-of-type {\n",
       "        vertical-align: middle;\n",
       "    }\n",
       "\n",
       "    .dataframe tbody tr th {\n",
       "        vertical-align: top;\n",
       "    }\n",
       "\n",
       "    .dataframe thead th {\n",
       "        text-align: right;\n",
       "    }\n",
       "</style>\n",
       "<table border=\"1\" class=\"dataframe\">\n",
       "  <thead>\n",
       "    <tr style=\"text-align: right;\">\n",
       "      <th></th>\n",
       "      <th>src_video</th>\n",
       "      <th>Nose_X</th>\n",
       "      <th>action</th>\n",
       "      <th>dur</th>\n",
       "    </tr>\n",
       "  </thead>\n",
       "  <tbody>\n",
       "    <tr>\n",
       "      <th>207</th>\n",
       "      <td>person09_running_d1_uncomp.avi</td>\n",
       "      <td>2</td>\n",
       "      <td>running</td>\n",
       "      <td>13.0</td>\n",
       "    </tr>\n",
       "  </tbody>\n",
       "</table>\n",
       "</div>"
      ],
      "text/plain": [
       "                          src_video  Nose_X   action   dur\n",
       "207  person09_running_d1_uncomp.avi       2  running  13.0"
      ]
     },
     "execution_count": 9,
     "metadata": {},
     "output_type": "execute_result"
    }
   ],
   "source": [
    "import numpy as np\n",
    "frames[frames['Nose_X'] == np.min(frames['Nose_X'])]"
   ]
  },
  {
   "cell_type": "code",
   "execution_count": 10,
   "id": "b0f6a00f",
   "metadata": {},
   "outputs": [
    {
     "data": {
      "text/html": [
       "<div>\n",
       "<style scoped>\n",
       "    .dataframe tbody tr th:only-of-type {\n",
       "        vertical-align: middle;\n",
       "    }\n",
       "\n",
       "    .dataframe tbody tr th {\n",
       "        vertical-align: top;\n",
       "    }\n",
       "\n",
       "    .dataframe thead th {\n",
       "        text-align: right;\n",
       "    }\n",
       "</style>\n",
       "<table border=\"1\" class=\"dataframe\">\n",
       "  <thead>\n",
       "    <tr style=\"text-align: right;\">\n",
       "      <th></th>\n",
       "      <th>src_video</th>\n",
       "      <th>Nose_X</th>\n",
       "      <th>action</th>\n",
       "      <th>dur</th>\n",
       "    </tr>\n",
       "  </thead>\n",
       "  <tbody>\n",
       "    <tr>\n",
       "      <th>207</th>\n",
       "      <td>person09_running_d1_uncomp.avi</td>\n",
       "      <td>2</td>\n",
       "      <td>running</td>\n",
       "      <td>13.00</td>\n",
       "    </tr>\n",
       "    <tr>\n",
       "      <th>160</th>\n",
       "      <td>person07_running_d1_uncomp.avi</td>\n",
       "      <td>3</td>\n",
       "      <td>running</td>\n",
       "      <td>12.48</td>\n",
       "    </tr>\n",
       "    <tr>\n",
       "      <th>66</th>\n",
       "      <td>person03_running_d3_uncomp.avi</td>\n",
       "      <td>3</td>\n",
       "      <td>running</td>\n",
       "      <td>15.00</td>\n",
       "    </tr>\n",
       "    <tr>\n",
       "      <th>112</th>\n",
       "      <td>person05_running_d1_uncomp.avi</td>\n",
       "      <td>4</td>\n",
       "      <td>running</td>\n",
       "      <td>11.40</td>\n",
       "    </tr>\n",
       "    <tr>\n",
       "      <th>64</th>\n",
       "      <td>person03_running_d1_uncomp.avi</td>\n",
       "      <td>6</td>\n",
       "      <td>running</td>\n",
       "      <td>15.20</td>\n",
       "    </tr>\n",
       "    <tr>\n",
       "      <th>...</th>\n",
       "      <td>...</td>\n",
       "      <td>...</td>\n",
       "      <td>...</td>\n",
       "      <td>...</td>\n",
       "    </tr>\n",
       "    <tr>\n",
       "      <th>272</th>\n",
       "      <td>person12_handwaving_d3_uncomp.avi</td>\n",
       "      <td>140</td>\n",
       "      <td>handwaving</td>\n",
       "      <td>27.96</td>\n",
       "    </tr>\n",
       "    <tr>\n",
       "      <th>80</th>\n",
       "      <td>person04_handwaving_d1_uncomp.avi</td>\n",
       "      <td>147</td>\n",
       "      <td>handwaving</td>\n",
       "      <td>29.28</td>\n",
       "    </tr>\n",
       "    <tr>\n",
       "      <th>153</th>\n",
       "      <td>person07_handwaving_d2_uncomp.avi</td>\n",
       "      <td>151</td>\n",
       "      <td>handwaving</td>\n",
       "      <td>30.08</td>\n",
       "    </tr>\n",
       "    <tr>\n",
       "      <th>155</th>\n",
       "      <td>person07_handwaving_d4_uncomp.avi</td>\n",
       "      <td>156</td>\n",
       "      <td>handwaving</td>\n",
       "      <td>31.20</td>\n",
       "    </tr>\n",
       "    <tr>\n",
       "      <th>152</th>\n",
       "      <td>person07_handwaving_d1_uncomp.avi</td>\n",
       "      <td>157</td>\n",
       "      <td>handwaving</td>\n",
       "      <td>31.28</td>\n",
       "    </tr>\n",
       "  </tbody>\n",
       "</table>\n",
       "<p>357 rows × 4 columns</p>\n",
       "</div>"
      ],
      "text/plain": [
       "                             src_video  Nose_X      action    dur\n",
       "207     person09_running_d1_uncomp.avi       2     running  13.00\n",
       "160     person07_running_d1_uncomp.avi       3     running  12.48\n",
       "66      person03_running_d3_uncomp.avi       3     running  15.00\n",
       "112     person05_running_d1_uncomp.avi       4     running  11.40\n",
       "64      person03_running_d1_uncomp.avi       6     running  15.20\n",
       "..                                 ...     ...         ...    ...\n",
       "272  person12_handwaving_d3_uncomp.avi     140  handwaving  27.96\n",
       "80   person04_handwaving_d1_uncomp.avi     147  handwaving  29.28\n",
       "153  person07_handwaving_d2_uncomp.avi     151  handwaving  30.08\n",
       "155  person07_handwaving_d4_uncomp.avi     156  handwaving  31.20\n",
       "152  person07_handwaving_d1_uncomp.avi     157  handwaving  31.28\n",
       "\n",
       "[357 rows x 4 columns]"
      ]
     },
     "execution_count": 10,
     "metadata": {},
     "output_type": "execute_result"
    }
   ],
   "source": [
    "frames.sort_values('Nose_X')"
   ]
  },
  {
   "cell_type": "code",
   "execution_count": null,
   "id": "ce021421",
   "metadata": {},
   "outputs": [],
   "source": []
  }
 ],
 "metadata": {
  "kernelspec": {
   "display_name": "torchenv",
   "language": "python",
   "name": "python3"
  },
  "language_info": {
   "codemirror_mode": {
    "name": "ipython",
    "version": 3
   },
   "file_extension": ".py",
   "mimetype": "text/x-python",
   "name": "python",
   "nbconvert_exporter": "python",
   "pygments_lexer": "ipython3",
   "version": "3.9.15"
  },
  "vscode": {
   "interpreter": {
    "hash": "9bc662710ab2c79ff07598d758c242dfc5bc1de46ba46ee96910a28ff488b348"
   }
  }
 },
 "nbformat": 4,
 "nbformat_minor": 5
}
